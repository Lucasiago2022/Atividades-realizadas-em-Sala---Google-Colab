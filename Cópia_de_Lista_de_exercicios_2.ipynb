{
  "nbformat": 4,
  "nbformat_minor": 0,
  "metadata": {
    "colab": {
      "name": "Cópia de Lista de exercicios 2.ipynb",
      "provenance": [],
      "collapsed_sections": [],
      "include_colab_link": true
    },
    "kernelspec": {
      "name": "python3",
      "display_name": "Python 3"
    },
    "language_info": {
      "name": "python"
    }
  },
  "cells": [
    {
      "cell_type": "markdown",
      "metadata": {
        "id": "view-in-github",
        "colab_type": "text"
      },
      "source": [
        "<a href=\"https://colab.research.google.com/github/Lucasiago2022/Atividades-realizadas-em-Sala---Google-Colab/blob/main/C%C3%B3pia_de_Lista_de_exercicios_2.ipynb\" target=\"_parent\"><img src=\"https://colab.research.google.com/assets/colab-badge.svg\" alt=\"Open In Colab\"/></a>"
      ]
    },
    {
      "cell_type": "markdown",
      "source": [
        "#Segunda Unidade\n",
        "##2º Lista de exercícios \n",
        "\n",
        "Exercícios com base nas aulas do dia 16/05 e 20/05 e deverá ser enviado até segunda (23/05) antes da aula. Dessa maneira, vocês podem me enviar o link dessa lista respondida (lembrar de autorizar qualquer pessoa com link de visualizar) ou fazer o download do arquivo (Arquivo > Fazer download > Fazer download do .ibynb) e me enviar por e-mail. "
      ],
      "metadata": {
        "id": "55ErYTfbMWZx"
      }
    },
    {
      "cell_type": "code",
      "source": [
        ""
      ],
      "metadata": {
        "id": "b6M5ShdSZ4Cm"
      },
      "execution_count": null,
      "outputs": []
    },
    {
      "cell_type": "code",
      "execution_count": null,
      "metadata": {
        "id": "RdhaWX7CL9Cs",
        "outputId": "ce174e72-9e1b-4550-d199-164b5acae80e",
        "colab": {
          "base_uri": "https://localhost:8080/"
        }
      },
      "outputs": [
        {
          "output_type": "stream",
          "name": "stdout",
          "text": [
            "Qual o dia da semana?\n",
            "5\n",
            "você precisa trabalhar!\n"
          ]
        }
      ],
      "source": [
        "# Exercício 1 - Crie uma estrutura que pergunte ao usuário qual o dia da semana. Se o dia for igual a Domingo ou igual a sábado, imprima na tela \"Hoje é dia de descanso\", caso contrário imprima na tela \"Você precisa trabalhar!\"\n",
        "dia=str(input(\"Qual o dia da semana?\\n\"))\n",
        "\n",
        "if dia == \"Sábado\" or dia == \"Domingo\":\n",
        "  print(\"dia de descanso!\")\n",
        "else:\n",
        "  print(\"você precisa trabalhar!\")"
      ]
    },
    {
      "cell_type": "code",
      "source": [
        "# Exercício 2 - Imprima a sequência de números pares até 70 (de maneira automatizada)\n",
        "for i in range(2,71,2):\n",
        "  print(i)"
      ],
      "metadata": {
        "id": "6foai8ABMh5J",
        "outputId": "13e5478d-07e4-4c7a-b82b-f436beef5264",
        "colab": {
          "base_uri": "https://localhost:8080/"
        }
      },
      "execution_count": null,
      "outputs": [
        {
          "output_type": "stream",
          "name": "stdout",
          "text": [
            "2\n",
            "4\n",
            "6\n",
            "8\n",
            "10\n",
            "12\n",
            "14\n",
            "16\n",
            "18\n",
            "20\n",
            "22\n",
            "24\n",
            "26\n",
            "28\n",
            "30\n",
            "32\n",
            "34\n",
            "36\n",
            "38\n",
            "40\n",
            "42\n",
            "44\n",
            "46\n",
            "48\n",
            "50\n",
            "52\n",
            "54\n",
            "56\n",
            "58\n",
            "60\n",
            "62\n",
            "64\n",
            "66\n",
            "68\n",
            "70\n"
          ]
        }
      ]
    },
    {
      "cell_type": "code",
      "source": [
        "# Exercício 3 - Leia um numero fornecido pelo usuario. Se esse numero for positivo, calcule a raiz quadrada do numero. Se o numero for negativo, mostre uma mensagem dizendo que o numero é invalido\n",
        "x = float(input(\"Digite um número: \"))\n",
        "\n",
        "if x > 0:\n",
        "  print(\"A raiz quadrada deste número é: \", x**(1/2))\n",
        "else:\n",
        "  print(\"Valor Invalido \")"
      ],
      "metadata": {
        "id": "YAu7pVMgQjhP",
        "outputId": "2a738f6d-1b4e-4aa6-8e09-342834b5792e",
        "colab": {
          "base_uri": "https://localhost:8080/"
        }
      },
      "execution_count": null,
      "outputs": [
        {
          "output_type": "stream",
          "name": "stdout",
          "text": [
            "Digite um número: -1\n",
            "Valor Invalido \n"
          ]
        }
      ]
    },
    {
      "cell_type": "code",
      "source": [
        "# Exercício 4 - Faça um programa que conte quantas vezes a letra \"e\" aparece na frase abaixo. \n",
        "# \"Receba! e o melhor do mundo! Graças a deus pai!\"\n",
        "print('Receba! e o melhor do mundo! Graças a deus pai!'.count('e'))\n"
      ],
      "metadata": {
        "id": "9zrwvBO4QuKn",
        "outputId": "d8810272-659e-4c23-b266-e8b9d001e458",
        "colab": {
          "base_uri": "https://localhost:8080/"
        }
      },
      "execution_count": null,
      "outputs": [
        {
          "output_type": "stream",
          "name": "stdout",
          "text": [
            "5\n"
          ]
        }
      ]
    },
    {
      "cell_type": "code",
      "source": [
        "# Exercício 5 - Faça um programa que receba um numero inteiro e verifique se este numero é par ou ımpar (imprima a resposta)\n",
        "y=int(input(\"Digite um número: \"))\n",
        "\n",
        "if y % 2 == 0:\n",
        "  print(\"é par\")\n",
        "else:\n",
        "  print(\"é ímpar\")"
      ],
      "metadata": {
        "id": "dOcAfeCXRCyN",
        "outputId": "a06014ff-0fcc-429b-f39e-697fd7ac96eb",
        "colab": {
          "base_uri": "https://localhost:8080/"
        }
      },
      "execution_count": null,
      "outputs": [
        {
          "output_type": "stream",
          "name": "stdout",
          "text": [
            "Digite um número: 5\n",
            "é ímpar\n"
          ]
        }
      ]
    },
    {
      "cell_type": "code",
      "source": [
        "# Exercício 6 - Faça um programa que receba do usuario as seguintes informações: o salario e o valor da prestacao de um emprestimo. Se a prestação for maior que 20% do salário imprima: Empréstimo não concedido, caso contrario imprima: Empréstimo concedido\n",
        "sal=float(input(\"Digite o seu salário: \"))\n",
        "prest=float(input(\"Digite o valor da prestação: \"))\n",
        "\n",
        "if prest > sal*0.2:\n",
        "  print(\"Empréstimo negado\")\n",
        "else:\n",
        "  print(\"Empréstimo concedido\")"
      ],
      "metadata": {
        "id": "BgiHb42sRUCx",
        "outputId": "07d396fe-1178-4587-d60d-d787f5435118",
        "colab": {
          "base_uri": "https://localhost:8080/"
        }
      },
      "execution_count": null,
      "outputs": [
        {
          "output_type": "stream",
          "name": "stdout",
          "text": [
            "Digite o seu salário: 1200\n",
            "Digite o valor da prestação: 100\n",
            "Empréstimo concedido\n"
          ]
        }
      ]
    },
    {
      "cell_type": "code",
      "source": [
        "# Exercício 7 - Escreva um programa que não saia do loop enquanto o usuário não digitar corretamente a senha, além disso quando o usuário errar imprima a seguinte mensagem: \"dica de senha: campeão brasileiro em 1987\"\n",
        "senha='sport'\n",
        "\n",
        "senha_digitada = str(input(\"Digite sua senha (apenas com letras)\"))\n",
        "\n",
        "while senha != senha_digitada:\n",
        "  print(\"Senha inválida, tente novamente. Dica de senha: Menor de Recife.\")\n",
        "  senha_digitada = str(input(\"Digite sua senha (apenas com letras) \")) \n",
        "\n",
        "print(\"Acesso Liberado!\")\n",
        "\n"
      ],
      "metadata": {
        "id": "IU9QamZpSVSn",
        "outputId": "35cfeb67-dd5f-41a6-974c-29d84e07f0b0",
        "colab": {
          "base_uri": "https://localhost:8080/"
        }
      },
      "execution_count": null,
      "outputs": [
        {
          "output_type": "stream",
          "name": "stdout",
          "text": [
            "Digite sua senha (apenas com letras)são paulo\n",
            "Senha inválida, tente novamente. Dica de senha: Menor de Recife.\n"
          ]
        }
      ]
    },
    {
      "cell_type": "code",
      "source": [
        "#Exercício 8 - Faça uma calculadora das quatro principais operações, na qual você pedirá ao usuário dois números e qual operação matemática será feita, com base nessas informações você deve imprimir a resposta.\n",
        "num1=float(input(\"Digite um número: \"))\n",
        "num2=float(input(\"Digite outro número: \"))\n",
        "\n",
        "oper=str(input(\"Qual das quatro operações deseja realizar? \"))\n",
        "\n",
        "if oper == 'soma':\n",
        "  print(\"A soma dos números é: \", num1+num2)\n",
        "elif oper == 'subtração':\n",
        "  print(\"A subtração dos números é: \", num1-num2)\n",
        "elif oper == 'multiplicação':\n",
        "  print(\"A multiplicação dos números é: \", num1*num2)\n",
        "elif oper == \"divisão\":\n",
        "  print(\"A divisão dos números é: \", num1/num2)"
      ],
      "metadata": {
        "id": "HsfvqQQgMwIk",
        "colab": {
          "base_uri": "https://localhost:8080/"
        },
        "outputId": "814bd3f3-5999-415d-e2f5-d1991718730e"
      },
      "execution_count": null,
      "outputs": [
        {
          "output_type": "stream",
          "name": "stdout",
          "text": [
            "Digite um número: 5\n",
            "Digite outro número: 5\n",
            "Qual das quatro operações deseja realizar? soma\n",
            "A soma dos números é:  10.0\n"
          ]
        }
      ]
    }
  ]
}