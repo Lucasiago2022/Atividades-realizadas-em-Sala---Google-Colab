{
  "nbformat": 4,
  "nbformat_minor": 0,
  "metadata": {
    "colab": {
      "name": "Cópia de Cópia de Lista de exercícios 1.ipynb",
      "provenance": [],
      "include_colab_link": true
    },
    "kernelspec": {
      "name": "python3",
      "display_name": "Python 3"
    },
    "language_info": {
      "name": "python"
    }
  },
  "cells": [
    {
      "cell_type": "markdown",
      "metadata": {
        "id": "view-in-github",
        "colab_type": "text"
      },
      "source": [
        "<a href=\"https://colab.research.google.com/github/Lucasiago2022/Atividades-realizadas-em-Sala---Google-Colab/blob/main/C%C3%B3pia_de_C%C3%B3pia_de_Lista_de_exerc%C3%ADcios_1.ipynb\" target=\"_parent\"><img src=\"https://colab.research.google.com/assets/colab-badge.svg\" alt=\"Open In Colab\"/></a>"
      ]
    },
    {
      "cell_type": "markdown",
      "source": [
        "#Segunda Unidade\n",
        "##1º Lista de exercícios \n",
        "\n",
        "Exercícios com base na aula presencial do dia 09/05 e deverá ser enviado até domingo (15/05). Dessa maneira, vocês podem me enviar o link dessa lista respondida (lembrar de autorizar qualquer pessoa com link de visualizar) ou fazer o download do arquivo (Arquivo > Fazer download > Fazer download do .ibynb) e me enviar por e-mail. \n"
      ],
      "metadata": {
        "id": "nVoKMnfvI72n"
      }
    },
    {
      "cell_type": "code",
      "execution_count": null,
      "metadata": {
        "id": "ZDmoaSRsItAx",
        "outputId": "01980d60-f7a8-4eab-a8b8-28b7a1d532a3",
        "colab": {
          "base_uri": "https://localhost:8080/"
        }
      },
      "outputs": [
        {
          "output_type": "stream",
          "name": "stdout",
          "text": [
            "[1, 2, 3, 4, 5, 6, 7, 8, 9, 10]\n"
          ]
        }
      ],
      "source": [
        "# Exercício 1 - Imprima na tela os números de 1 a 10. Use uma lista para armazenar os números.\n",
        "Lista = [1, 2, 3, 4, 5, 6, 7, 8, 9, 10] \n",
        "print(Lista)"
      ]
    },
    {
      "cell_type": "code",
      "source": [
        "# Exercício 2 - Crie uma lista de 5 objetos e imprima na tela\n",
        "Objetos = ['Bola', 'Trave', 'Rede','Bandeira','Chuteira']\n",
        "print(Objetos)"
      ],
      "metadata": {
        "id": "RFab4ia4OU_I",
        "outputId": "928ec669-fc8c-4e45-f596-1e78654e5f0c",
        "colab": {
          "base_uri": "https://localhost:8080/"
        }
      },
      "execution_count": null,
      "outputs": [
        {
          "output_type": "stream",
          "name": "stdout",
          "text": [
            "['Bola', 'Trave', 'Rede', 'Bandeira', 'Chuteira']\n"
          ]
        }
      ]
    },
    {
      "cell_type": "code",
      "source": [
        "# Exercício 3 - Crie duas strings e concatene as duas em uma terceira string (com um espaço entre elas)\n",
        "ar = \"Não sei\"  \n",
        "terra = \"to aprendendo\"\n",
        "print(ar + terra)"
      ],
      "metadata": {
        "id": "vDvKHdX_OZcI",
        "outputId": "16944c1d-b15c-44e3-f903-c48bde9f6276",
        "colab": {
          "base_uri": "https://localhost:8080/"
        }
      },
      "execution_count": null,
      "outputs": [
        {
          "output_type": "stream",
          "name": "stdout",
          "text": [
            "Não seito aprendendo\n"
          ]
        }
      ]
    },
    {
      "cell_type": "code",
      "source": [
        "# Exercício 4 - Crie uma lista de 4 elementos. O primeiro elemento deve ser uma string, \n",
        "# o segundo um inteiro, o terceiro um float e quarto um booleano.\n",
        "# Imprima a lista na tela.\n",
        "Futebol = ['São Pualo', 6, 3.3, True]\n",
        "print(Futebol)"
      ],
      "metadata": {
        "id": "QYTz08AqOfat",
        "outputId": "8fd6c92c-6b8c-4726-8697-5272260c7237",
        "colab": {
          "base_uri": "https://localhost:8080/"
        }
      },
      "execution_count": null,
      "outputs": [
        {
          "output_type": "stream",
          "name": "stdout",
          "text": [
            "['São Pualo', 6, 3.3, True]\n"
          ]
        }
      ]
    },
    {
      "cell_type": "code",
      "source": [
        "# Exercício 5 - Considere a string abaixo. Imprima na tela apenas o nome \"atuaria\".\n",
        "curso = \"ciências atuariais\"\n",
        "curso[9:16]\n"
      ],
      "metadata": {
        "id": "mMX_QUOHOzPH",
        "outputId": "5c6807dc-dfff-4549-ddf6-0e846586e3e4",
        "colab": {
          "base_uri": "https://localhost:8080/",
          "height": 35
        }
      },
      "execution_count": null,
      "outputs": [
        {
          "output_type": "execute_result",
          "data": {
            "text/plain": [
              "'atuaria'"
            ],
            "application/vnd.google.colaboratory.intrinsic+json": {
              "type": "string"
            }
          },
          "metadata": {},
          "execution_count": 22
        }
      ]
    },
    {
      "cell_type": "code",
      "source": [
        "# Exercício 6 - Crie uma variável tipo inteira e converta para tipo float.\n",
        "Libertadores = 3 \n",
        "Libertadores_float = float(Libertadores)\n",
        "type(Libertadores_float)"
      ],
      "metadata": {
        "id": "SPnxIsk5PCKF",
        "outputId": "a9a84932-62ce-49af-dadb-280440e526e9",
        "colab": {
          "base_uri": "https://localhost:8080/"
        }
      },
      "execution_count": null,
      "outputs": [
        {
          "output_type": "execute_result",
          "data": {
            "text/plain": [
              "float"
            ]
          },
          "metadata": {},
          "execution_count": 24
        }
      ]
    },
    {
      "cell_type": "code",
      "source": [
        "# Exercício 7 - Faça uma divisão retorando um número inteiro como resultado\n",
        "100//4"
      ],
      "metadata": {
        "id": "qIuT8G9SXbFg",
        "outputId": "85bd58ac-3f28-45d1-d0de-d84aa83a8ab3",
        "colab": {
          "base_uri": "https://localhost:8080/"
        }
      },
      "execution_count": null,
      "outputs": [
        {
          "output_type": "execute_result",
          "data": {
            "text/plain": [
              "25"
            ]
          },
          "metadata": {},
          "execution_count": 5
        }
      ]
    },
    {
      "cell_type": "code",
      "source": [
        "# Exercício 8 - Imprima a frase \"Palmeiras não tem mundial\" cinco vezes, através de código e sem digitar mais de uma vez a frase. \n",
        "n = '-Palmeiras não tem mundial '\n",
        "y = 5 * n\n",
        "print( y )"
      ],
      "metadata": {
        "id": "nPPJFNCePqVV",
        "outputId": "f2c1f9a4-4f5c-4a2c-dbea-1fa1a77d836b",
        "colab": {
          "base_uri": "https://localhost:8080/"
        }
      },
      "execution_count": null,
      "outputs": [
        {
          "output_type": "stream",
          "name": "stdout",
          "text": [
            "-Palmeiras não tem mundial -Palmeiras não tem mundial -Palmeiras não tem mundial -Palmeiras não tem mundial -Palmeiras não tem mundial \n"
          ]
        }
      ]
    },
    {
      "cell_type": "code",
      "source": [
        "# Exercício 9 - Crie cada uma das 5 classes de variaveis ensinadas e imprima o tipo da variavel (sem escrever o nome da variável).\n"
      ],
      "metadata": {
        "id": "apbbPBGvTv5V"
      },
      "execution_count": null,
      "outputs": []
    },
    {
      "cell_type": "code",
      "source": [
        "# Exercício 10 - Dada a lista de compras abaixo, substitua maças por bananas \n",
        "listadomercado = [\"ovos\", \"farinha\", \"leite\", \"maças\"]\n",
        "print(listadomercado)\n"
      ],
      "metadata": {
        "id": "Wfp2TNc-QMC3",
        "outputId": "2f2123fb-a982-4510-9157-c63846c9cff6",
        "colab": {
          "base_uri": "https://localhost:8080/"
        }
      },
      "execution_count": null,
      "outputs": [
        {
          "output_type": "stream",
          "name": "stdout",
          "text": [
            "['ovos', 'farinha', 'leite', 'maças']\n"
          ]
        }
      ]
    },
    {
      "cell_type": "code",
      "source": [
        "# Exercício 11 - Print a lista de compras abaixo, sem o item \"ovos\" \n",
        "listadomercado = [\"ovos\", \"farinha\", \"leite\", \"maças\"]\n",
        "listadomercado[1:8]"
      ],
      "metadata": {
        "id": "Kl_dEZhJS1P1",
        "outputId": "a12d1499-7f46-4628-aeba-0acb70756df2",
        "colab": {
          "base_uri": "https://localhost:8080/"
        }
      },
      "execution_count": null,
      "outputs": [
        {
          "output_type": "execute_result",
          "data": {
            "text/plain": [
              "['farinha', 'leite', 'maças']"
            ]
          },
          "metadata": {},
          "execution_count": 63
        }
      ]
    },
    {
      "cell_type": "code",
      "source": [
        "# Exercício 12 - Dada a lista de compras abaixo, adicione cerveja, carne e carvão (#sextou) e imprima a nova lista.\n",
        "listadomercado = [\"ovos\", \"farinha\", \"leite\", \"maças\"]\n",
        "listadochurrasco = ['carvão', 'cerveja', 'carne']\n",
        "w = listadomercado \n",
        "q = listadochurrasco\n",
        "m = q + w\n",
        "print(m)"
      ],
      "metadata": {
        "id": "Ysb9Hj1QSN5U",
        "outputId": "7fd6d837-7c14-4b59-9a3b-2c49aab6d056",
        "colab": {
          "base_uri": "https://localhost:8080/"
        }
      },
      "execution_count": null,
      "outputs": [
        {
          "output_type": "stream",
          "name": "stdout",
          "text": [
            "['carvão', 'cerveja', 'carne', 'ovos', 'farinha', 'leite', 'maças']\n"
          ]
        }
      ]
    },
    {
      "cell_type": "code",
      "source": [
        "# Exercício 13 - Print a lista de compras abaixo, sem o item \"farinha\" \n",
        "listadomercado = [\"ovos\", \"farinha\", \"leite\", \"maças\"]\n",
        "f = listadomercado[0:1]\n",
        "l = listadomercado[2:5]\n",
        "j = l + f\n",
        "print(j)"
      ],
      "metadata": {
        "id": "143bXMzWTeVo",
        "outputId": "f8d449fc-e457-4dc6-8647-b41a799cb489",
        "colab": {
          "base_uri": "https://localhost:8080/"
        }
      },
      "execution_count": null,
      "outputs": [
        {
          "output_type": "stream",
          "name": "stdout",
          "text": [
            "['leite', 'maças', 'ovos']\n"
          ]
        }
      ]
    },
    {
      "cell_type": "code",
      "source": [
        "# Exercício 14 - Arredonde a variável x para 1.\n",
        "j = 9 / 10\n",
        "rounded = round(j)\n",
        "print(rounded)"
      ],
      "metadata": {
        "id": "wNDwedAgX3AW",
        "outputId": "1746c8e2-1396-4818-d5e8-4e15c4b008f4",
        "colab": {
          "base_uri": "https://localhost:8080/"
        }
      },
      "execution_count": null,
      "outputs": [
        {
          "output_type": "stream",
          "name": "stdout",
          "text": [
            "1\n"
          ]
        }
      ]
    }
  ]
}